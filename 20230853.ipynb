{
 "cells": [
  {
   "cell_type": "markdown",
   "metadata": {},
   "source": [
    "# 1. LeetCode 225"
   ]
  },
  {
   "cell_type": "code",
   "execution_count": null,
   "metadata": {},
   "outputs": [],
   "source": [
    "class MyStack(object):\n",
    "\n",
    "    def __init__(self):\n",
    "        self.q1 = []\n",
    "        self.q2 = []\n",
    "        \n",
    "\n",
    "    def push(self, x):\n",
    "        self.q2.append(x)\n",
    "        while self.q1:\n",
    "            self.q2.append(self.q1.pop(0))\n",
    "        self.q1, self.q2 = self.q2, self.q1\n",
    "        \n",
    "\n",
    "    def pop(self):\n",
    "        return self.q1.pop(0)\n",
    "        \n",
    "\n",
    "    def top(self):\n",
    "        return self.q1[0]\n",
    "        \n",
    "\n",
    "    def empty(self):\n",
    "        return len(self.q1) == 0"
   ]
  },
  {
   "cell_type": "markdown",
   "metadata": {},
   "source": [
    "두 큐를 리스트로 초기화한다.\n",
    "q1: 현재 스택 저장 큐 / q2: 임시 큐\n",
    "\n",
    "스택은 가장 마지막에 추가된 요소가 먼저 제거되어야 한다. 이를 큐의 기본 연산 LIFO으로 구현하기 위해 임시 큐 q2를 사용하여 큐의 요소의 순서를 바꿔준다. 연산이 끝난 후에는 두 큐의 역할을 스왑하여 주 큐(q1)가 항상 스택의 현 상태를 유지하도록 한다.\n",
    "\n",
    "\n",
    "**push(x) 메서드**\n",
    "1. 새 요소 추가: 입력된 값 x를 임시 큐(q2)의 뒤에 추가한다.\n",
    "2. 기존 요소 옮기기: 기존 큐(q1)에 있는 모든 요소를 하나씩 꺼내어 임시 큐(q2)에 추가한다. 이 과정으로 인해 새 요소는 임시 큐의 맨 앞에 위치하게 된다.\n",
    "3. 큐 스왑: 역할을 바꾸어 q2가 새로운 주 큐(q1)가 되도록 한다. 이후 q2는 다시 빈 상태가 된다.\n",
    "\n",
    "**pop() 메서드**\n",
    "1. 스택의 가장 위(top)에 해당하는 요소는 현재 주 큐(q1)의 맨 앞에 위치한다.\n",
    "따라서, pop(0) 연산을 사용해 해당 요소를 제거하고 반환한다.\n",
    "\n",
    "**top() 메서드**\n",
    "1. q1의 첫 번째 요소를 반환하여 스택의 top을 확인한다.\n",
    "\n",
    "**empty() 메서드**\n",
    "1. 주 큐(q1)의 길이가 0이면 스택이 비어있다는 의미다."
   ]
  },
  {
   "cell_type": "markdown",
   "metadata": {},
   "source": [
    "# 2. LeetCode 232"
   ]
  },
  {
   "cell_type": "code",
   "execution_count": null,
   "metadata": {},
   "outputs": [],
   "source": [
    "class MyQueue(object):\n",
    "\n",
    "    def __init__(self):\n",
    "        self.stack_in = []\n",
    "        self.stack_out = []\n",
    "        \n",
    "\n",
    "    def push(self, x):\n",
    "        self.stack_in.append(x)\n",
    "        \n",
    "\n",
    "    def pop(self):\n",
    "        if not self.stack_out:\n",
    "            while self.stack_in:\n",
    "                self.stack_out.append(self.stack_in.pop())\n",
    "        return self.stack_out.pop()\n",
    "        \n",
    "\n",
    "    def peek(self):\n",
    "        if not self.stack_out:\n",
    "            while self.stack_in:\n",
    "                self.stack_out.append(self.stack_in.pop())\n",
    "        return self.stack_out[-1]\n",
    "        \n",
    "\n",
    "    def empty(self):\n",
    "        return not self.stack_in and not self.stack_out"
   ]
  },
  {
   "cell_type": "markdown",
   "metadata": {},
   "source": [
    "FIFO 방식의 큐를 구현하기 위해 두 개의 스택을 사용하여 입력 스택(stack_in)과 출력 스택(stack_out)으로 역할을 구분한다. 만약 출력 스택이 비어있는 경우, 입력 스택에 쌓인 요소들을 모두 꺼내면서 출력 스택에 옮긴다. 이 과정에서 트개의 LIFO 특성이 역전되어, 처음 들어온 요소가 출력 스택의 top에 위치하게 되어 올바른 FIFO 동작이 이루어진다.\n",
    "\n",
    "- stack_in: 새로 들어오는 요소들을 단순히 쌓는 역할 / stack_out: 삭제 및 peek 연산\n",
    "\n",
    "\n",
    "**push(x) 메서드**\n",
    "1. 새 요소 x를 입력 스택에 추가한다.\n",
    "\n",
    "**pop() 메서드**\n",
    "1. 먼저 출력 스택이 비어있는지 확인한다.\n",
    "2. 만약 비어있다면, while 루프를 사용하여 입력 스택의 모든 요소를 꺼내 출력 스택에 추가한다. 이때 스택의 pop()의 연산은 리스트의 pop()으로 처리한다.\n",
    "3. 이후, 출력 스택의 top 요소를 pop()하여 큐에서 가장 먼저 들어온 요소를 반환한다.\n",
    "\n",
    "**peek() 메서드**\n",
    "1. pop()과 동일하게, 만약 출력 스택이 비어있으면 입력 스택의 모든 요소들을 출력 스택으로 옮긴다.\n",
    "2. stack_out[-1]을 통해 큐의 front 요소를 확인하고 반환한다.\n",
    "\n",
    "**empty() 메서드**\n",
    "1. stack_in과 stack_out 두 스택 모두 비어있는지 확인하여, 두 스택이 모두 비어있으면 True, 그렇지 않으면 False를 반환한다."
   ]
  }
 ],
 "metadata": {
  "language_info": {
   "name": "python"
  }
 },
 "nbformat": 4,
 "nbformat_minor": 2
}
