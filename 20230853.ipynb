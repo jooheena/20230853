{
 "cells": [
  {
   "cell_type": "markdown",
   "metadata": {},
   "source": [
    "# 1. LeetCode 225"
   ]
  },
  {
   "cell_type": "code",
   "execution_count": null,
   "metadata": {},
   "outputs": [],
   "source": [
    "class MyStack(object):\n",
    "\n",
    "    def __init__(self):\n",
    "        self.q1 = []\n",
    "        self.q2 = []\n",
    "        \n",
    "\n",
    "    def push(self, x):\n",
    "        self.q2.append(x)\n",
    "        while self.q1:\n",
    "            self.q2.append(self.q1.pop(0))\n",
    "        self.q1, self.q2 = self.q2, self.q1\n",
    "        \n",
    "\n",
    "    def pop(self):\n",
    "        return self.q1.pop(0)\n",
    "        \n",
    "\n",
    "    def top(self):\n",
    "        return self.q1[0]\n",
    "        \n",
    "\n",
    "    def empty(self):\n",
    "        return len(self.q1) == 0"
   ]
  },
  {
   "cell_type": "markdown",
   "metadata": {},
   "source": [
    "두 큐를 리스트로 초기화한다.\n",
    "q1: 현재 스택 저장 큐 / q2: 임시 큐\n",
    "\n",
    "스택은 가장 마지막에 추가된 요소가 먼저 제거되어야 한다. 이를 큐의 기본 연산 LIFO으로 구현하기 위해 임시 큐 q2를 사용하여 큐의 요소의 순서를 바꿔준다. 연산이 끝난 후에는 두 큐의 역할을 스왑하여 주 큐(q1)가 항상 스택의 현 상태를 유지하도록 한다.\n",
    "\n",
    "\n",
    "> push(x) 메서드\n",
    "1. 새 요소 추가: 입력된 값 x를 임시 큐(q2)의 뒤에 추가한다.\n",
    "2. 기존 요소 옮기기: 기존 큐(q1)에 있는 모든 요소를 하나씩 꺼내어 임시 큐(q2)에 추가한다. 이 과정으로 인해 새 요소는 임시 큐의 맨 앞에 위치하게 된다.\n",
    "3. 큐 스왑: 역할을 바꾸어 q2가 새로운 주 큐(q1)가 되도록 한다. 이후 q2는 다시 빈 상태가 된다.\n",
    "\n",
    "> pop() 메서드\n",
    "1. 스택의 가장 위(top)에 해당하는 요소는 현재 주 큐(q1)의 맨 앞에 위치한다.\n",
    "따라서, pop(0) 연산을 사용해 해당 요소를 제거하고 반환한다.\n",
    "\n",
    "> top() 메서드\n",
    "1. q1의 첫 번째 요소를 반환하여 스택의 top을 확인한다.\n",
    "\n",
    "> empty() 메서드\n",
    "1. 주 큐(q1)의 길이가 0이면 스택이 비어있다는 의미다."
   ]
  },
  {
   "cell_type": "markdown",
   "metadata": {},
   "source": [
    "# 2. LeetCode 232"
   ]
  },
  {
   "cell_type": "markdown",
   "metadata": {},
   "source": []
  }
 ],
 "metadata": {
  "language_info": {
   "name": "python"
  }
 },
 "nbformat": 4,
 "nbformat_minor": 2
}
