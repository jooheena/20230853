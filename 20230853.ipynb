{
 "cells": [
  {
   "cell_type": "markdown",
   "metadata": {},
   "source": [
    "# 1. LeetCode 225"
   ]
  },
  {
   "cell_type": "code",
   "execution_count": null,
   "metadata": {},
   "outputs": [],
   "source": [
    "class MyStack(object):\n",
    "\n",
    "    def __init__(self):\n",
    "        self.q1 = []\n",
    "        self.q2 = []\n",
    "        \n",
    "\n",
    "    def push(self, x):\n",
    "        self.q2.append(x)\n",
    "        while self.q1:\n",
    "            self.q2.append(self.q1.pop(0))\n",
    "        self.q1, self.q2 = self.q2, self.q1\n",
    "        \n",
    "\n",
    "    def pop(self):\n",
    "        return self.q1.pop(0)\n",
    "        \n",
    "\n",
    "    def top(self):\n",
    "        return self.q1[0]\n",
    "        \n",
    "\n",
    "    def empty(self):\n",
    "        return len(self.q1) == 0"
   ]
  },
  {
   "cell_type": "markdown",
   "metadata": {},
   "source": [
    "## 두 큐를 리스트로 초기화한다.\n",
    "## q1: 현재 스택 저장 큐 / q2: \n",
    "## 스택은 가장 마지막에 추가된 요소가 먼저 제거되어야 한다. 이를 큐의 기본 연산 LIFO으로 구현하기 위해 "
   ]
  },
  {
   "cell_type": "markdown",
   "metadata": {},
   "source": [
    "# 2. LeetCode 232"
   ]
  },
  {
   "cell_type": "markdown",
   "metadata": {},
   "source": []
  }
 ],
 "metadata": {
  "language_info": {
   "name": "python"
  }
 },
 "nbformat": 4,
 "nbformat_minor": 2
}
